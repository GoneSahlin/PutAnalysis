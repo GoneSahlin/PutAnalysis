{
 "cells": [
  {
   "cell_type": "markdown",
   "metadata": {},
   "source": [
    "# Add NRDY path to the combined path"
   ]
  },
  {
   "cell_type": "code",
   "execution_count": 17,
   "metadata": {},
   "outputs": [],
   "source": [
    "import os\n",
    "import polars as pl\n",
    "\n",
    "from pattern_detector import utils"
   ]
  },
  {
   "cell_type": "markdown",
   "metadata": {},
   "source": [
    "### Read combined"
   ]
  },
  {
   "cell_type": "code",
   "execution_count": 10,
   "metadata": {},
   "outputs": [
    {
     "name": "stdout",
     "output_type": "stream",
     "text": [
      "2014-09-17 2024-09-13\n"
     ]
    }
   ],
   "source": [
    "combined_path = os.path.join('data', 'silver', 'combined.parquet')\n",
    "\n",
    "combined_df = pl.read_parquet(combined_path)\n",
    "\n",
    "start_required = min(combined_df['date'])\n",
    "end_date = max(combined_df['date'])\n",
    "\n",
    "print(start_required, end_date)"
   ]
  },
  {
   "cell_type": "markdown",
   "metadata": {},
   "source": [
    "### Cleaning"
   ]
  },
  {
   "cell_type": "code",
   "execution_count": 25,
   "metadata": {},
   "outputs": [],
   "source": [
    "ticker = 'NRDY'\n",
    "nrdy_path = os.path.join('data', 'NRDY.csv')\n",
    "    \n",
    "# read file into df\n",
    "df = pl.read_csv(nrdy_path)\n",
    "\n",
    "# type Date column\n",
    "df = df.with_columns(pl.col('Date').str.to_date().alias('Date'))\n",
    "\n",
    "# remove unneeded columns\n",
    "df = df.select('Date', 'Adj Close')\n",
    "\n",
    "# rename columns\n",
    "df = df.rename({'Date': 'date', 'Adj Close': 'adjclose'})\n",
    "\n",
    "# limit data to last 10 years\n",
    "df = df.filter(df[\"date\"] > start_required)\n",
    "\n",
    "# rename adjclose to ticker\n",
    "df = df.rename({\"adjclose\": ticker})\n",
    "\n",
    "# remove timestamp column\n",
    "df = df.select([\"date\", ticker])"
   ]
  },
  {
   "cell_type": "code",
   "execution_count": 26,
   "metadata": {},
   "outputs": [
    {
     "name": "stdout",
     "output_type": "stream",
     "text": [
      "shape: (860, 2)\n",
      "┌────────────┬───────────┐\n",
      "│ date       ┆ NRDY      │\n",
      "│ ---        ┆ ---       │\n",
      "│ date       ┆ f64       │\n",
      "╞════════════╪═══════════╡\n",
      "│ 2020-12-01 ┆ -0.010224 │\n",
      "│ 2020-12-02 ┆ 0.0       │\n",
      "│ 2020-12-03 ┆ 0.04181   │\n",
      "│ 2020-12-04 ┆ -0.017941 │\n",
      "│ 2020-12-07 ┆ 0.009519  │\n",
      "│ …          ┆ …         │\n",
      "│ 2024-04-26 ┆ 0.061538  │\n",
      "│ 2024-04-29 ┆ -0.018116 │\n",
      "│ 2024-04-30 ┆ -0.04428  │\n",
      "│ 2024-05-01 ┆ -0.011583 │\n",
      "│ 2024-05-02 ┆ 0.03125   │\n",
      "└────────────┴───────────┘\n"
     ]
    }
   ],
   "source": [
    "percent_df = utils.convert_to_percentage(df)\n",
    "\n",
    "# drop first row\n",
    "percent_df = percent_df[1:]\n",
    "\n",
    "print(percent_df)"
   ]
  },
  {
   "cell_type": "code",
   "execution_count": 28,
   "metadata": {},
   "outputs": [],
   "source": [
    "# join dfs\n",
    "final_df = combined_df.join(percent_df, on=\"date\", how=\"full\", coalesce=True)\n",
    "\n",
    "# write to parquet\n",
    "out_filepath = os.path.join(\"data\", \"silver\", \"combined_with_nrdy.parquet\")\n",
    "final_df.write_parquet(out_filepath)"
   ]
  }
 ],
 "metadata": {
  "kernelspec": {
   "display_name": ".venv",
   "language": "python",
   "name": "python3"
  },
  "language_info": {
   "codemirror_mode": {
    "name": "ipython",
    "version": 3
   },
   "file_extension": ".py",
   "mimetype": "text/x-python",
   "name": "python",
   "nbconvert_exporter": "python",
   "pygments_lexer": "ipython3",
   "version": "3.10.12"
  }
 },
 "nbformat": 4,
 "nbformat_minor": 2
}
