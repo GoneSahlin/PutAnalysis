{
 "cells": [
  {
   "cell_type": "markdown",
   "metadata": {},
   "source": [
    "# Combine CSVs"
   ]
  },
  {
   "cell_type": "code",
   "execution_count": 1,
   "metadata": {},
   "outputs": [],
   "source": [
    "import polars as pl\n",
    "import os"
   ]
  },
  {
   "cell_type": "markdown",
   "metadata": {},
   "source": [
    "### Filepaths"
   ]
  },
  {
   "cell_type": "code",
   "execution_count": 7,
   "metadata": {},
   "outputs": [],
   "source": [
    "bronze_path = os.path.join('..', 'data', 'bronze')\n",
    "silver_path = os.path.join('..', 'data', 'silver')\n",
    "nrdy_path = os.path.join('..', 'data', 'NRDY.csv')"
   ]
  },
  {
   "cell_type": "code",
   "execution_count": 55,
   "metadata": {},
   "outputs": [],
   "source": [
    "# combine csvs\n",
    "filenames = os.listdir(bronze_path)\n",
    "\n",
    "dfs = []\n",
    "for filename in filenames:\n",
    "    filepath = os.path.join(bronze_path, filename)\n",
    "    ticker = filename.removesuffix('.csv')\n",
    "\n",
    "    df = pl.read_csv(filepath) \\\n",
    "        .select(\n",
    "            pl.from_epoch(pl.col('timestamp'), time_unit=\"s\").dt.date().alias(\"date\"),\n",
    "            pl.lit(ticker).alias('ticker'),\n",
    "            pl.col('adjclose').alias('price')\n",
    "        )\n",
    "    \n",
    "    dfs.append(df)\n",
    "\n",
    "combined_df = pl.concat(dfs)"
   ]
  },
  {
   "cell_type": "code",
   "execution_count": 52,
   "metadata": {},
   "outputs": [],
   "source": [
    "combined_path = os.path.join(silver_path, 'prices')\n",
    "\n",
    "combined_df.write_parquet(combined_path)"
   ]
  },
  {
   "cell_type": "markdown",
   "metadata": {},
   "source": [
    "### Preview"
   ]
  },
  {
   "cell_type": "code",
   "execution_count": 53,
   "metadata": {},
   "outputs": [
    {
     "data": {
      "text/html": [
       "<div><style>\n",
       ".dataframe > thead > tr,\n",
       ".dataframe > tbody > tr {\n",
       "  text-align: right;\n",
       "  white-space: pre-wrap;\n",
       "}\n",
       "</style>\n",
       "<small>shape: (16_408_393, 3)</small><table border=\"1\" class=\"dataframe\"><thead><tr><th>date</th><th>ticker</th><th>price</th></tr><tr><td>date</td><td>str</td><td>f64</td></tr></thead><tbody><tr><td>1994-03-18</td><td>&quot;SCSC&quot;</td><td>1.71875</td></tr><tr><td>1994-03-21</td><td>&quot;SCSC&quot;</td><td>1.90625</td></tr><tr><td>1994-03-22</td><td>&quot;SCSC&quot;</td><td>1.9375</td></tr><tr><td>1994-03-23</td><td>&quot;SCSC&quot;</td><td>2.09375</td></tr><tr><td>1994-03-24</td><td>&quot;SCSC&quot;</td><td>2.09375</td></tr><tr><td>&hellip;</td><td>&hellip;</td><td>&hellip;</td></tr><tr><td>2024-09-09</td><td>&quot;HWBK&quot;</td><td>23.612986</td></tr><tr><td>2024-09-10</td><td>&quot;HWBK&quot;</td><td>23.612986</td></tr><tr><td>2024-09-11</td><td>&quot;HWBK&quot;</td><td>23.870943</td></tr><tr><td>2024-09-12</td><td>&quot;HWBK&quot;</td><td>23.99</td></tr><tr><td>2024-09-13</td><td>&quot;HWBK&quot;</td><td>24.35</td></tr></tbody></table></div>"
      ],
      "text/plain": [
       "shape: (16_408_393, 3)\n",
       "┌────────────┬────────┬───────────┐\n",
       "│ date       ┆ ticker ┆ price     │\n",
       "│ ---        ┆ ---    ┆ ---       │\n",
       "│ date       ┆ str    ┆ f64       │\n",
       "╞════════════╪════════╪═══════════╡\n",
       "│ 1994-03-18 ┆ SCSC   ┆ 1.71875   │\n",
       "│ 1994-03-21 ┆ SCSC   ┆ 1.90625   │\n",
       "│ 1994-03-22 ┆ SCSC   ┆ 1.9375    │\n",
       "│ 1994-03-23 ┆ SCSC   ┆ 2.09375   │\n",
       "│ 1994-03-24 ┆ SCSC   ┆ 2.09375   │\n",
       "│ …          ┆ …      ┆ …         │\n",
       "│ 2024-09-09 ┆ HWBK   ┆ 23.612986 │\n",
       "│ 2024-09-10 ┆ HWBK   ┆ 23.612986 │\n",
       "│ 2024-09-11 ┆ HWBK   ┆ 23.870943 │\n",
       "│ 2024-09-12 ┆ HWBK   ┆ 23.99     │\n",
       "│ 2024-09-13 ┆ HWBK   ┆ 24.35     │\n",
       "└────────────┴────────┴───────────┘"
      ]
     },
     "metadata": {},
     "output_type": "display_data"
    }
   ],
   "source": [
    "display(pl.read_parquet(combined_path))"
   ]
  },
  {
   "cell_type": "markdown",
   "metadata": {},
   "source": [
    "### Add NRDY"
   ]
  },
  {
   "cell_type": "code",
   "execution_count": 54,
   "metadata": {},
   "outputs": [],
   "source": [
    "others_df = pl.read_parquet(combined_path)\n",
    "\n",
    "nrdy_df = (pl.read_csv(nrdy_path)\n",
    "    .select(\n",
    "        pl.col('Date').str.to_date().alias('date'),\n",
    "        pl.lit('NRDY').alias('ticker'),\n",
    "        pl.col('Adj Close').alias('price')\n",
    "    )\n",
    ")\n",
    "            \n",
    "\n",
    "combined_with_nrdy_df = pl.concat([others_df, nrdy_df])"
   ]
  },
  {
   "cell_type": "code",
   "execution_count": 56,
   "metadata": {},
   "outputs": [],
   "source": [
    "combined_with_nrdy_path = os.path.join(silver_path, 'prices_with_nrdy')\n",
    "\n",
    "combined_with_nrdy_df.write_parquet(combined_with_nrdy_path)"
   ]
  },
  {
   "cell_type": "markdown",
   "metadata": {},
   "source": [
    "### Preview"
   ]
  },
  {
   "cell_type": "code",
   "execution_count": 57,
   "metadata": {},
   "outputs": [
    {
     "data": {
      "text/html": [
       "<div><style>\n",
       ".dataframe > thead > tr,\n",
       ".dataframe > tbody > tr {\n",
       "  text-align: right;\n",
       "  white-space: pre-wrap;\n",
       "}\n",
       "</style>\n",
       "<small>shape: (16_409_255, 3)</small><table border=\"1\" class=\"dataframe\"><thead><tr><th>date</th><th>ticker</th><th>price</th></tr><tr><td>date</td><td>str</td><td>f64</td></tr></thead><tbody><tr><td>1994-03-18</td><td>&quot;SCSC&quot;</td><td>1.71875</td></tr><tr><td>1994-03-21</td><td>&quot;SCSC&quot;</td><td>1.90625</td></tr><tr><td>1994-03-22</td><td>&quot;SCSC&quot;</td><td>1.9375</td></tr><tr><td>1994-03-23</td><td>&quot;SCSC&quot;</td><td>2.09375</td></tr><tr><td>1994-03-24</td><td>&quot;SCSC&quot;</td><td>2.09375</td></tr><tr><td>&hellip;</td><td>&hellip;</td><td>&hellip;</td></tr><tr><td>2024-04-26</td><td>&quot;NRDY&quot;</td><td>2.76</td></tr><tr><td>2024-04-29</td><td>&quot;NRDY&quot;</td><td>2.71</td></tr><tr><td>2024-04-30</td><td>&quot;NRDY&quot;</td><td>2.59</td></tr><tr><td>2024-05-01</td><td>&quot;NRDY&quot;</td><td>2.56</td></tr><tr><td>2024-05-02</td><td>&quot;NRDY&quot;</td><td>2.64</td></tr></tbody></table></div>"
      ],
      "text/plain": [
       "shape: (16_409_255, 3)\n",
       "┌────────────┬────────┬─────────┐\n",
       "│ date       ┆ ticker ┆ price   │\n",
       "│ ---        ┆ ---    ┆ ---     │\n",
       "│ date       ┆ str    ┆ f64     │\n",
       "╞════════════╪════════╪═════════╡\n",
       "│ 1994-03-18 ┆ SCSC   ┆ 1.71875 │\n",
       "│ 1994-03-21 ┆ SCSC   ┆ 1.90625 │\n",
       "│ 1994-03-22 ┆ SCSC   ┆ 1.9375  │\n",
       "│ 1994-03-23 ┆ SCSC   ┆ 2.09375 │\n",
       "│ 1994-03-24 ┆ SCSC   ┆ 2.09375 │\n",
       "│ …          ┆ …      ┆ …       │\n",
       "│ 2024-04-26 ┆ NRDY   ┆ 2.76    │\n",
       "│ 2024-04-29 ┆ NRDY   ┆ 2.71    │\n",
       "│ 2024-04-30 ┆ NRDY   ┆ 2.59    │\n",
       "│ 2024-05-01 ┆ NRDY   ┆ 2.56    │\n",
       "│ 2024-05-02 ┆ NRDY   ┆ 2.64    │\n",
       "└────────────┴────────┴─────────┘"
      ]
     },
     "metadata": {},
     "output_type": "display_data"
    }
   ],
   "source": [
    "display(pl.read_parquet(combined_with_nrdy_path))"
   ]
  }
 ],
 "metadata": {
  "kernelspec": {
   "display_name": ".venv",
   "language": "python",
   "name": "python3"
  },
  "language_info": {
   "codemirror_mode": {
    "name": "ipython",
    "version": 3
   },
   "file_extension": ".py",
   "mimetype": "text/x-python",
   "name": "python",
   "nbconvert_exporter": "python",
   "pygments_lexer": "ipython3",
   "version": "3.10.12"
  }
 },
 "nbformat": 4,
 "nbformat_minor": 2
}
