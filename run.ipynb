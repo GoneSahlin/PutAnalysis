{
 "cells": [
  {
   "cell_type": "code",
   "execution_count": 1,
   "metadata": {},
   "outputs": [],
   "source": [
    "import polars as pl\n",
    "import os\n",
    "import importlib\n",
    "import sys\n",
    "import json\n",
    "from datetime import datetime\n",
    "\n",
    "from pattern_detector import utils\n"
   ]
  },
  {
   "cell_type": "markdown",
   "metadata": {},
   "source": [
    "### Calculate patterns"
   ]
  },
  {
   "cell_type": "code",
   "execution_count": 2,
   "metadata": {},
   "outputs": [],
   "source": [
    "filepath = os.path.join(\"data\", \"silver\", \"combined.parquet\")\n",
    "dates = pl.read_parquet(filepath, columns=\"date\").to_series()\n",
    "\n",
    "all_patterns = utils.generate_possible_patterns(dates)"
   ]
  },
  {
   "cell_type": "markdown",
   "metadata": {},
   "source": [
    "### Get names of tickers"
   ]
  },
  {
   "cell_type": "code",
   "execution_count": 3,
   "metadata": {},
   "outputs": [],
   "source": [
    "schema = pl.read_parquet_schema(filepath)\n",
    "\n",
    "tickers = list(schema.keys())[1:]  # all but date column"
   ]
  },
  {
   "cell_type": "markdown",
   "metadata": {},
   "source": [
    "### Run for each ticker"
   ]
  },
  {
   "cell_type": "code",
   "execution_count": 4,
   "metadata": {},
   "outputs": [
    {
     "name": "stdout",
     "output_type": "stream",
     "text": [
      "[2109/2109]: 2108%: HWBK  "
     ]
    }
   ],
   "source": [
    "importlib.reload(utils)\n",
    "\n",
    "num_tickers = len(tickers)\n",
    "found_patterns = {}\n",
    "for i, ticker in enumerate(tickers):\n",
    "    # read df\n",
    "    df = pl.read_parquet(filepath, columns=['date', ticker])\n",
    "\n",
    "    # rename column\n",
    "    df = df.select(\n",
    "        pl.col('date'),\n",
    "        pl.col(ticker).alias(\"value\")\n",
    "    )\n",
    "\n",
    "    # find patterns\n",
    "    good_patterns = utils.find_good_patterns(df, possible_patterns=all_patterns)\n",
    "    pruned_patterns = utils.prune_patterns(good_patterns)\n",
    "\n",
    "    if pruned_patterns:\n",
    "        rows = []\n",
    "        for pattern in pruned_patterns:\n",
    "            row = {'pattern': [x.isoformat() for x in pattern]}  # must convert to str for json\n",
    "            row['days_decreased'], row['mean'], row['stdev'] = utils.summarize_pattern(pattern, df)\n",
    "            row['next_days_decreased'], row['next_mean'], row['next_stdev'] = utils.summarize_pattern_next_day(pattern, df)\n",
    "            \n",
    "            rows.append(row)\n",
    "\n",
    "        found_patterns[ticker] = rows\n",
    "\n",
    "    # print progress\n",
    "    percent_complete = int(round((i+1) / num_tickers * 100, 0))\n",
    "    sys.stdout.write(f\"\\r[{i+1}/{num_tickers}]: {percent_complete}%: {ticker} \")\n",
    "    sys.stdout.flush()"
   ]
  },
  {
   "cell_type": "markdown",
   "metadata": {},
   "source": [
    "### Save found patterns"
   ]
  },
  {
   "cell_type": "code",
   "execution_count": 15,
   "metadata": {},
   "outputs": [],
   "source": [
    "filename = 'found_patterns_' + str(datetime.now().timestamp()) + '.json'\n",
    "\n",
    "outfile_path = os.path.join('data', 'gold', filename)\n",
    "\n",
    "with open(outfile_path, 'w') as outfile: \n",
    "    json.dump(found_patterns, outfile)"
   ]
  }
 ],
 "metadata": {
  "kernelspec": {
   "display_name": ".venv",
   "language": "python",
   "name": "python3"
  },
  "language_info": {
   "codemirror_mode": {
    "name": "ipython",
    "version": 3
   },
   "file_extension": ".py",
   "mimetype": "text/x-python",
   "name": "python",
   "nbconvert_exporter": "python",
   "pygments_lexer": "ipython3",
   "version": "3.10.12"
  }
 },
 "nbformat": 4,
 "nbformat_minor": 2
}
