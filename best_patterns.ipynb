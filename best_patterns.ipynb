{
 "cells": [
  {
   "cell_type": "markdown",
   "metadata": {},
   "source": [
    "# Find the best patterns\n",
    "\n",
    "From the most recent found_patterns, sort them by the \"best\" ones."
   ]
  },
  {
   "cell_type": "code",
   "execution_count": 3,
   "metadata": {},
   "outputs": [],
   "source": [
    "import json\n",
    "import os\n",
    "import importlib\n",
    "import polars as pl"
   ]
  },
  {
   "cell_type": "markdown",
   "metadata": {},
   "source": [
    "### Load found patterns"
   ]
  },
  {
   "cell_type": "code",
   "execution_count": 5,
   "metadata": {},
   "outputs": [
    {
     "name": "stdout",
     "output_type": "stream",
     "text": [
      "shape: (1_789, 8)\n",
      "┌────────┬─────────────┬─────────────┬───────────┬──────────┬─────────────┬───────────┬────────────┐\n",
      "│ ticker ┆ pattern     ┆ days_decrea ┆ mean      ┆ stdev    ┆ next_days_d ┆ next_mean ┆ next_stdev │\n",
      "│ ---    ┆ ---         ┆ sed         ┆ ---       ┆ ---      ┆ ecreased    ┆ ---       ┆ ---        │\n",
      "│ str    ┆ list[str]   ┆ ---         ┆ f64       ┆ f64      ┆ ---         ┆ f64       ┆ f64        │\n",
      "│        ┆             ┆ i64         ┆           ┆          ┆ i64         ┆           ┆            │\n",
      "╞════════╪═════════════╪═════════════╪═══════════╪══════════╪═════════════╪═══════════╪════════════╡\n",
      "│ HUM    ┆ [\"2022-09-1 ┆ 6           ┆ -0.020571 ┆ 0.037607 ┆ 5           ┆ 0.006468  ┆ 0.031744   │\n",
      "│        ┆ 4\", \"2022-1 ┆             ┆           ┆          ┆             ┆           ┆            │\n",
      "│        ┆ 2-14\", ……   ┆             ┆           ┆          ┆             ┆           ┆            │\n",
      "│ GVP    ┆ [\"2018-04-0 ┆ 21          ┆ -0.026958 ┆ 0.03137  ┆ 16          ┆ -0.005835 ┆ 0.047879   │\n",
      "│        ┆ 5\", \"2018-0 ┆             ┆           ┆          ┆             ┆           ┆            │\n",
      "│        ┆ 7-05\", ……   ┆             ┆           ┆          ┆             ┆           ┆            │\n",
      "│ GVP    ┆ [\"2020-12-2 ┆ 10          ┆ -0.022548 ┆ 0.047539 ┆ 12          ┆ -0.019412 ┆ 0.041494   │\n",
      "│        ┆ 8\", \"2021-0 ┆             ┆           ┆          ┆             ┆           ┆            │\n",
      "│        ┆ 3-29\", ……   ┆             ┆           ┆          ┆             ┆           ┆            │\n",
      "│ GVP    ┆ [\"2021-08-1 ┆ 10          ┆ -0.064464 ┆ 0.070425 ┆ 8           ┆ -0.018429 ┆ 0.082452   │\n",
      "│        ┆ 6\", \"2021-1 ┆             ┆           ┆          ┆             ┆           ┆            │\n",
      "│        ┆ 1-16\", ……   ┆             ┆           ┆          ┆             ┆           ┆            │\n",
      "│ GVP    ┆ [\"2022-06-1 ┆ 7           ┆ -0.03079  ┆ 0.056587 ┆ 6           ┆ -0.074822 ┆ 0.147584   │\n",
      "│        ┆ 6\", \"2022-0 ┆             ┆           ┆          ┆             ┆           ┆            │\n",
      "│        ┆ 9-16\", ……   ┆             ┆           ┆          ┆             ┆           ┆            │\n",
      "│ …      ┆ …           ┆ …           ┆ …         ┆ …        ┆ …           ┆ …         ┆ …          │\n",
      "│ NURO   ┆ [\"2021-09-2 ┆ 11          ┆ -0.020499 ┆ 0.014346 ┆ 8           ┆ -0.017097 ┆ 0.043524   │\n",
      "│        ┆ 7\", \"2021-1 ┆             ┆           ┆          ┆             ┆           ┆            │\n",
      "│        ┆ 2-27\", ……   ┆             ┆           ┆          ┆             ┆           ┆            │\n",
      "│ TREE   ┆ [\"2019-11-1 ┆ 16          ┆ -0.020369 ┆ 0.032265 ┆ 14          ┆ -0.00509  ┆ 0.048706   │\n",
      "│        ┆ 8\", \"2020-0 ┆             ┆           ┆          ┆             ┆           ┆            │\n",
      "│        ┆ 2-18\", ……   ┆             ┆           ┆          ┆             ┆           ┆            │\n",
      "│ TREE   ┆ [\"2020-05-1 ┆ 12          ┆ -0.024328 ┆ 0.040222 ┆ 12          ┆ 0.004045  ┆ 0.051919   │\n",
      "│        ┆ 1\", \"2020-0 ┆             ┆           ┆          ┆             ┆           ┆            │\n",
      "│        ┆ 8-10\", ……   ┆             ┆           ┆          ┆             ┆           ┆            │\n",
      "│ TREE   ┆ [\"2020-06-0 ┆ 15          ┆ -0.02209  ┆ 0.024876 ┆ 11          ┆ 0.001404  ┆ 0.047715   │\n",
      "│        ┆ 3\", \"2020-0 ┆             ┆           ┆          ┆             ┆           ┆            │\n",
      "│        ┆ 9-03\", ……   ┆             ┆           ┆          ┆             ┆           ┆            │\n",
      "│ TREE   ┆ [\"2021-08-2 ┆ 9           ┆ -0.021931 ┆ 0.035139 ┆ 9           ┆ -0.014837 ┆ 0.031686   │\n",
      "│        ┆ 3\", \"2021-1 ┆             ┆           ┆          ┆             ┆           ┆            │\n",
      "│        ┆ 1-22\", ……   ┆             ┆           ┆          ┆             ┆           ┆            │\n",
      "└────────┴─────────────┴─────────────┴───────────┴──────────┴─────────────┴───────────┴────────────┘\n"
     ]
    }
   ],
   "source": [
    "# get all files\n",
    "gold_folder = os.path.join(\"data\", \"gold\")\n",
    "filenames = os.listdir(gold_folder)\n",
    "\n",
    "# get most recent found patterns file\n",
    "prefix = \"found_patterns_\"\n",
    "found_patterns_filenames = list(filter(lambda x: x.startswith(prefix), filenames))\n",
    "most_recent_filename = sorted(found_patterns_filenames, reverse=True)[0]\n",
    "\n",
    "filepath = os.path.join(gold_folder, most_recent_filename)\n",
    "\n",
    "# load parquet\n",
    "found_patterns = pl.read_parquet(filepath)\n",
    "\n",
    "print(found_patterns)"
   ]
  },
  {
   "cell_type": "markdown",
   "metadata": {},
   "source": [
    "### Sort by mean"
   ]
  },
  {
   "cell_type": "code",
   "execution_count": 8,
   "metadata": {},
   "outputs": [
    {
     "data": {
      "text/html": [
       "<div><style>\n",
       ".dataframe > thead > tr,\n",
       ".dataframe > tbody > tr {\n",
       "  text-align: right;\n",
       "  white-space: pre-wrap;\n",
       "}\n",
       "</style>\n",
       "<small>shape: (1_789, 8)</small><table border=\"1\" class=\"dataframe\"><thead><tr><th>ticker</th><th>pattern</th><th>days_decreased</th><th>mean</th><th>stdev</th><th>next_days_decreased</th><th>next_mean</th><th>next_stdev</th></tr><tr><td>str</td><td>list[str]</td><td>i64</td><td>f64</td><td>f64</td><td>i64</td><td>f64</td><td>f64</td></tr></thead><tbody><tr><td>&quot;CARA&quot;</td><td>[&quot;2022-09-19&quot;, &quot;2022-12-19&quot;, … &quot;2024-06-17&quot;]</td><td>7</td><td>-0.128278</td><td>0.167562</td><td>5</td><td>-0.007776</td><td>0.024815</td></tr><tr><td>&quot;COMM&quot;</td><td>[&quot;2022-11-03&quot;, &quot;2023-02-03&quot;, … &quot;2024-08-05&quot;]</td><td>6</td><td>-0.097516</td><td>0.102577</td><td>5</td><td>0.000488</td><td>0.049864</td></tr><tr><td>&quot;TRVN&quot;</td><td>[&quot;2021-11-09&quot;, &quot;2022-02-09&quot;, … &quot;2024-08-09&quot;]</td><td>8</td><td>-0.080714</td><td>0.139657</td><td>9</td><td>-0.01292</td><td>0.084774</td></tr><tr><td>&quot;TELL&quot;</td><td>[&quot;2022-09-19&quot;, &quot;2022-12-19&quot;, … &quot;2024-06-17&quot;]</td><td>6</td><td>-0.079099</td><td>0.1114</td><td>5</td><td>-0.041303</td><td>0.090691</td></tr><tr><td>&quot;APEI&quot;</td><td>[&quot;2021-12-15&quot;, &quot;2022-03-15&quot;, … &quot;2024-06-17&quot;]</td><td>8</td><td>-0.072166</td><td>0.14302</td><td>7</td><td>-0.008158</td><td>0.025127</td></tr><tr><td>&hellip;</td><td>&hellip;</td><td>&hellip;</td><td>&hellip;</td><td>&hellip;</td><td>&hellip;</td><td>&hellip;</td><td>&hellip;</td></tr><tr><td>&quot;AUBN&quot;</td><td>[&quot;2020-03-12&quot;, &quot;2020-06-12&quot;, … &quot;2024-09-12&quot;]</td><td>16</td><td>-0.020009</td><td>0.027884</td><td>14</td><td>-0.005745</td><td>0.012872</td></tr><tr><td>&quot;ZG&quot;</td><td>[&quot;2021-05-17&quot;, &quot;2021-08-16&quot;, … &quot;2024-08-16&quot;]</td><td>11</td><td>-0.020006</td><td>0.019857</td><td>10</td><td>-0.010524</td><td>0.032065</td></tr><tr><td>&quot;COHR&quot;</td><td>[&quot;2022-09-06&quot;, &quot;2022-12-05&quot;, … &quot;2024-09-05&quot;]</td><td>7</td><td>-0.020005</td><td>0.019176</td><td>6</td><td>-0.021941</td><td>0.027903</td></tr><tr><td>&quot;RGS&quot;</td><td>[&quot;2021-08-27&quot;, &quot;2021-11-29&quot;, … &quot;2024-08-27&quot;]</td><td>9</td><td>-0.020004</td><td>0.042388</td><td>9</td><td>-0.009978</td><td>0.040308</td></tr><tr><td>&quot;SAVE&quot;</td><td>[&quot;2022-10-27&quot;, &quot;2023-01-27&quot;, … &quot;2024-07-29&quot;]</td><td>7</td><td>-0.020003</td><td>0.038493</td><td>5</td><td>-0.008327</td><td>0.051444</td></tr></tbody></table></div>"
      ],
      "text/plain": [
       "shape: (1_789, 8)\n",
       "┌────────┬─────────────┬─────────────┬───────────┬──────────┬─────────────┬───────────┬────────────┐\n",
       "│ ticker ┆ pattern     ┆ days_decrea ┆ mean      ┆ stdev    ┆ next_days_d ┆ next_mean ┆ next_stdev │\n",
       "│ ---    ┆ ---         ┆ sed         ┆ ---       ┆ ---      ┆ ecreased    ┆ ---       ┆ ---        │\n",
       "│ str    ┆ list[str]   ┆ ---         ┆ f64       ┆ f64      ┆ ---         ┆ f64       ┆ f64        │\n",
       "│        ┆             ┆ i64         ┆           ┆          ┆ i64         ┆           ┆            │\n",
       "╞════════╪═════════════╪═════════════╪═══════════╪══════════╪═════════════╪═══════════╪════════════╡\n",
       "│ CARA   ┆ [\"2022-09-1 ┆ 7           ┆ -0.128278 ┆ 0.167562 ┆ 5           ┆ -0.007776 ┆ 0.024815   │\n",
       "│        ┆ 9\", \"2022-1 ┆             ┆           ┆          ┆             ┆           ┆            │\n",
       "│        ┆ 2-19\", ……   ┆             ┆           ┆          ┆             ┆           ┆            │\n",
       "│ COMM   ┆ [\"2022-11-0 ┆ 6           ┆ -0.097516 ┆ 0.102577 ┆ 5           ┆ 0.000488  ┆ 0.049864   │\n",
       "│        ┆ 3\", \"2023-0 ┆             ┆           ┆          ┆             ┆           ┆            │\n",
       "│        ┆ 2-03\", ……   ┆             ┆           ┆          ┆             ┆           ┆            │\n",
       "│ TRVN   ┆ [\"2021-11-0 ┆ 8           ┆ -0.080714 ┆ 0.139657 ┆ 9           ┆ -0.01292  ┆ 0.084774   │\n",
       "│        ┆ 9\", \"2022-0 ┆             ┆           ┆          ┆             ┆           ┆            │\n",
       "│        ┆ 2-09\", ……   ┆             ┆           ┆          ┆             ┆           ┆            │\n",
       "│ TELL   ┆ [\"2022-09-1 ┆ 6           ┆ -0.079099 ┆ 0.1114   ┆ 5           ┆ -0.041303 ┆ 0.090691   │\n",
       "│        ┆ 9\", \"2022-1 ┆             ┆           ┆          ┆             ┆           ┆            │\n",
       "│        ┆ 2-19\", ……   ┆             ┆           ┆          ┆             ┆           ┆            │\n",
       "│ APEI   ┆ [\"2021-12-1 ┆ 8           ┆ -0.072166 ┆ 0.14302  ┆ 7           ┆ -0.008158 ┆ 0.025127   │\n",
       "│        ┆ 5\", \"2022-0 ┆             ┆           ┆          ┆             ┆           ┆            │\n",
       "│        ┆ 3-15\", ……   ┆             ┆           ┆          ┆             ┆           ┆            │\n",
       "│ …      ┆ …           ┆ …           ┆ …         ┆ …        ┆ …           ┆ …         ┆ …          │\n",
       "│ AUBN   ┆ [\"2020-03-1 ┆ 16          ┆ -0.020009 ┆ 0.027884 ┆ 14          ┆ -0.005745 ┆ 0.012872   │\n",
       "│        ┆ 2\", \"2020-0 ┆             ┆           ┆          ┆             ┆           ┆            │\n",
       "│        ┆ 6-12\", ……   ┆             ┆           ┆          ┆             ┆           ┆            │\n",
       "│ ZG     ┆ [\"2021-05-1 ┆ 11          ┆ -0.020006 ┆ 0.019857 ┆ 10          ┆ -0.010524 ┆ 0.032065   │\n",
       "│        ┆ 7\", \"2021-0 ┆             ┆           ┆          ┆             ┆           ┆            │\n",
       "│        ┆ 8-16\", ……   ┆             ┆           ┆          ┆             ┆           ┆            │\n",
       "│ COHR   ┆ [\"2022-09-0 ┆ 7           ┆ -0.020005 ┆ 0.019176 ┆ 6           ┆ -0.021941 ┆ 0.027903   │\n",
       "│        ┆ 6\", \"2022-1 ┆             ┆           ┆          ┆             ┆           ┆            │\n",
       "│        ┆ 2-05\", ……   ┆             ┆           ┆          ┆             ┆           ┆            │\n",
       "│ RGS    ┆ [\"2021-08-2 ┆ 9           ┆ -0.020004 ┆ 0.042388 ┆ 9           ┆ -0.009978 ┆ 0.040308   │\n",
       "│        ┆ 7\", \"2021-1 ┆             ┆           ┆          ┆             ┆           ┆            │\n",
       "│        ┆ 1-29\", ……   ┆             ┆           ┆          ┆             ┆           ┆            │\n",
       "│ SAVE   ┆ [\"2022-10-2 ┆ 7           ┆ -0.020003 ┆ 0.038493 ┆ 5           ┆ -0.008327 ┆ 0.051444   │\n",
       "│        ┆ 7\", \"2023-0 ┆             ┆           ┆          ┆             ┆           ┆            │\n",
       "│        ┆ 1-27\", ……   ┆             ┆           ┆          ┆             ┆           ┆            │\n",
       "└────────┴─────────────┴─────────────┴───────────┴──────────┴─────────────┴───────────┴────────────┘"
      ]
     },
     "execution_count": 8,
     "metadata": {},
     "output_type": "execute_result"
    }
   ],
   "source": [
    "found_patterns.sort(by=\"mean\")"
   ]
  }
 ],
 "metadata": {
  "kernelspec": {
   "display_name": ".venv",
   "language": "python",
   "name": "python3"
  },
  "language_info": {
   "codemirror_mode": {
    "name": "ipython",
    "version": 3
   },
   "file_extension": ".py",
   "mimetype": "text/x-python",
   "name": "python",
   "nbconvert_exporter": "python",
   "pygments_lexer": "ipython3",
   "version": "3.10.12"
  }
 },
 "nbformat": 4,
 "nbformat_minor": 2
}
