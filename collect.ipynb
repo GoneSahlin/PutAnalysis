{
 "cells": [
  {
   "cell_type": "markdown",
   "metadata": {},
   "source": [
    "## Collect all data for stocks in Wilshire 5000"
   ]
  },
  {
   "cell_type": "code",
   "execution_count": 14,
   "metadata": {},
   "outputs": [
    {
     "data": {
      "text/plain": [
       "<module 'pattern_detector.collect' from '/home/zach/Projects/PutAnalysis/pattern_detector/collect.py'>"
      ]
     },
     "execution_count": 14,
     "metadata": {},
     "output_type": "execute_result"
    }
   ],
   "source": [
    "import importlib\n",
    "import pandas as pd\n",
    "import os\n",
    "\n",
    "from pattern_detector import utils\n",
    "from pattern_detector import collect\n",
    "\n",
    "importlib.reload(utils)\n",
    "importlib.reload(collect)"
   ]
  },
  {
   "cell_type": "markdown",
   "metadata": {},
   "source": [
    "#### Load Wilshire 5000 tickers"
   ]
  },
  {
   "cell_type": "code",
   "execution_count": 11,
   "metadata": {},
   "outputs": [],
   "source": [
    "wilshire_tickers = utils.get_wilshire_tickers()"
   ]
  },
  {
   "cell_type": "markdown",
   "metadata": {},
   "source": [
    "#### Collect data"
   ]
  },
  {
   "cell_type": "code",
   "execution_count": 15,
   "metadata": {},
   "outputs": [
    {
     "name": "stdout",
     "output_type": "stream",
     "text": [
      "{\"finance\":{\"result\":null,\"error\":{\"code\":\"unauthorized\",\"description\":\"User is not logged in\"}}}\n"
     ]
    }
   ],
   "source": [
    "for ticker in wilshire_tickers:\n",
    "    try:\n",
    "        link = collect.get_download_link(ticker)\n",
    "        df = collect.get_data(link)\n",
    "\n",
    "        # save in data/bronze/ticker.csv\n",
    "        path = os.path.join(\"data\", \"bronze\", ticker + \".csv\")\n",
    "\n",
    "        df.to_csv(path)\n",
    "\n",
    "    except Exception as e:\n",
    "        print(e)\n",
    "\n",
    "    break"
   ]
  }
 ],
 "metadata": {
  "kernelspec": {
   "display_name": ".venv",
   "language": "python",
   "name": "python3"
  },
  "language_info": {
   "codemirror_mode": {
    "name": "ipython",
    "version": 3
   },
   "file_extension": ".py",
   "mimetype": "text/x-python",
   "name": "python",
   "nbconvert_exporter": "python",
   "pygments_lexer": "ipython3",
   "version": "3.10.12"
  }
 },
 "nbformat": 4,
 "nbformat_minor": 2
}
